{
 "cells": [
  {
   "cell_type": "markdown",
   "metadata": {},
   "source": [
    "Generalización con matrices unitarias"
   ]
  },
  {
   "cell_type": "code",
   "execution_count": 1,
   "metadata": {},
   "outputs": [],
   "source": [
    "# Measurements\n",
    "from qiskit import QuantumRegister, ClassicalRegister, QuantumCircuit\n",
    "from qiskit import execute\n",
    "from qiskit.visualization import plot_histogram \n",
    "from qiskit.quantum_info import Operator\n",
    "from qiskit import IBMQ, Aer, transpile, assemble\n",
    "import numpy as np\n",
    "from numpy import exp, cos, sin, pi"
   ]
  },
  {
   "cell_type": "code",
   "execution_count": 2,
   "metadata": {},
   "outputs": [],
   "source": [
    "# Definimos un  operador unitario arbitrario\n",
    "def matriz(theta, phi, alpha, delta):\n",
    "    U= np.matrix([[exp(-1j*phi)*cos(theta/2),exp(1j*alpha)*sin(theta/2)], \n",
    "                  [-exp(-1j*alpha)*sin(theta/2),exp(1j*phi)*cos(theta/2)]])\n",
    "    UU = Operator (np.identity(2)*exp(1j*delta)*U) \n",
    "    return UU"
   ]
  },
  {
   "cell_type": "code",
   "execution_count": 3,
   "metadata": {
    "scrolled": true
   },
   "outputs": [],
   "source": [
    "def proceso(thetaA,thetaB,phiA,phiB,alphaA,alphaB,deltaA,deltaB):\n",
    "    # Cargamos el simulador Aer\n",
    "    simulator = Aer.get_backend(\"qasm_simulator\")\n",
    "\n",
    "    # Creamos un QC \n",
    "    qr = QuantumRegister(2, 'q')\n",
    "    crz, crx = ClassicalRegister(1, name=\"crz\"), ClassicalRegister(1, name=\"crx\")\n",
    "    circuit = QuantumCircuit(qr, crz,crx)\n",
    "\n",
    "    # Definimos la matriz de entrelazamiento\n",
    "    I_2 = np.identity(4)    \n",
    "    X_2 = np.matrix([[0,0,0,1], \n",
    "                       [0,0,1,0],\n",
    "                       [0,1,0,0],\n",
    "                       [1,0,0,0]])\n",
    "    J_2 = Operator(1 / np.sqrt(2) * (I_2 + 1j *X_2))  \n",
    "    J_2_dg = Operator(1 / np.sqrt(2) * (I_2 - 1j *X_2))\n",
    "    \n",
    "    U_A = matriz(thetaA,phiA,alphaA,deltaA)\n",
    "    U_B = matriz(thetaB,phiB,alphaB,deltaB)\n",
    "#     print(U_A)\n",
    "#     print(U_B)\n",
    "\n",
    "    # Generamos el circuito\n",
    "    circuit.append(J_2, [0,1])\n",
    "    circuit.append(U_A,[0]) # asignamos la puerta UA al jugador 1\n",
    "    circuit.append(U_B,[1]) # asignamos la puerta UB al jugador 2\n",
    "    circuit.append(J_2_dg, [0,1])\n",
    "\n",
    "    # Medimos las qubits\n",
    "    circuit.measure(qr[0],crz)\n",
    "    circuit.measure(qr[1],crx)\n",
    "    \n",
    "\n",
    "    # Ejecutamos el circuito en el simulador qasm\n",
    "    job = execute(circuit, simulator,shots=1024)\n",
    "    # Los resultados de job\n",
    "    result = job.result()\n",
    "    # Contamos los resultados\n",
    "    counts = result.get_counts(circuit)\n",
    "#     print(counts,\"\\n\")\n",
    "    # Dibujamos el circuito\n",
    "    dib = circuit.draw()\n",
    "    print(dib,\"\\n\")\n",
    "    # Histograma de resultados\n",
    "#     plot_histogram(counts)\n",
    "    return plot_histogram(counts)"
   ]
  },
  {
   "cell_type": "code",
   "execution_count": 4,
   "metadata": {
    "scrolled": true
   },
   "outputs": [
    {
     "name": "stdout",
     "output_type": "stream",
     "text": [
      "       ┌──────────┐┌─────────┐┌──────────┐┌─┐   \n",
      "  q_0: ┤0         ├┤ unitary ├┤0         ├┤M├───\n",
      "       │  unitary │├─────────┤│  unitary │└╥┘┌─┐\n",
      "  q_1: ┤1         ├┤ unitary ├┤1         ├─╫─┤M├\n",
      "       └──────────┘└─────────┘└──────────┘ ║ └╥┘\n",
      "crz: 1/════════════════════════════════════╩══╬═\n",
      "                                           0  ║ \n",
      "                                              ║ \n",
      "crx: 1/═══════════════════════════════════════╩═\n",
      "                                              0  \n",
      "\n"
     ]
    },
    {
     "data": {
      "image/png": "[encoded data removed]",
      "text/plain": [
       "<Figure size 504x360 with 1 Axes>"
      ]
     },
     "execution_count": 4,
     "metadata": {},
     "output_type": "execute_result"
    }
   ],
   "source": [
    "# Ejecutamos el caso clásico\n",
    "proceso(pi,pi,0,0,0,0,0,0)"
   ]
  },
  {
   "cell_type": "code",
   "execution_count": 5,
   "metadata": {},
   "outputs": [
    {
     "name": "stdout",
     "output_type": "stream",
     "text": [
      "       ┌──────────┐┌─────────┐┌──────────┐┌─┐   \n",
      "  q_0: ┤0         ├┤ unitary ├┤0         ├┤M├───\n",
      "       │  unitary │├─────────┤│  unitary │└╥┘┌─┐\n",
      "  q_1: ┤1         ├┤ unitary ├┤1         ├─╫─┤M├\n",
      "       └──────────┘└─────────┘└──────────┘ ║ └╥┘\n",
      "crz: 1/════════════════════════════════════╩══╬═\n",
      "                                           0  ║ \n",
      "                                              ║ \n",
      "crx: 1/═══════════════════════════════════════╩═\n",
      "                                              0  \n",
      "\n"
     ]
    },
    {
     "data": {
      "image/png": "[encoded data removed]",
      "text/plain": [
       "<Figure size 504x360 with 1 Axes>"
      ]
     },
     "execution_count": 5,
     "metadata": {},
     "output_type": "execute_result"
    }
   ],
   "source": [
    "# Caso en el que gana jugador 1\n",
    "proceso(pi,0,0,0,0,0,0,0)"
   ]
  },
  {
   "cell_type": "code",
   "execution_count": 6,
   "metadata": {},
   "outputs": [
    {
     "name": "stdout",
     "output_type": "stream",
     "text": [
      "       ┌──────────┐┌─────────┐┌──────────┐┌─┐   \n",
      "  q_0: ┤0         ├┤ unitary ├┤0         ├┤M├───\n",
      "       │  unitary │├─────────┤│  unitary │└╥┘┌─┐\n",
      "  q_1: ┤1         ├┤ unitary ├┤1         ├─╫─┤M├\n",
      "       └──────────┘└─────────┘└──────────┘ ║ └╥┘\n",
      "crz: 1/════════════════════════════════════╩══╬═\n",
      "                                           0  ║ \n",
      "                                              ║ \n",
      "crx: 1/═══════════════════════════════════════╩═\n",
      "                                              0  \n",
      "\n"
     ]
    },
    {
     "data": {
      "image/png": "[encoded data removed]",
      "text/plain": [
       "<Figure size 504x360 with 1 Axes>"
      ]
     },
     "execution_count": 6,
     "metadata": {},
     "output_type": "execute_result"
    }
   ],
   "source": [
    "# Caso en el que gana jugador 2\n",
    "proceso(0,pi,0,0,0,0,0,0)"
   ]
  },
  {
   "cell_type": "code",
   "execution_count": 7,
   "metadata": {},
   "outputs": [
    {
     "name": "stdout",
     "output_type": "stream",
     "text": [
      "       ┌──────────┐┌─────────┐┌──────────┐┌─┐   \n",
      "  q_0: ┤0         ├┤ unitary ├┤0         ├┤M├───\n",
      "       │  unitary │├─────────┤│  unitary │└╥┘┌─┐\n",
      "  q_1: ┤1         ├┤ unitary ├┤1         ├─╫─┤M├\n",
      "       └──────────┘└─────────┘└──────────┘ ║ └╥┘\n",
      "crz: 1/════════════════════════════════════╩══╬═\n",
      "                                           0  ║ \n",
      "                                              ║ \n",
      "crx: 1/═══════════════════════════════════════╩═\n",
      "                                              0  \n",
      "\n"
     ]
    },
    {
     "data": {
      "image/png": "[encoded data removed]",
      "text/plain": [
       "<Figure size 504x360 with 1 Axes>"
      ]
     },
     "execution_count": 7,
     "metadata": {},
     "output_type": "execute_result"
    }
   ],
   "source": [
    "# Caso del prisionero cuántico\n",
    "proceso(0,pi,pi/4,0,0,3*pi/2,pi/4,pi/2)"
   ]
  },
  {
   "cell_type": "markdown",
   "metadata": {},
   "source": [
    "Empleando las definiciones de Qiskit, se reproduce el dilema del prisionero cuántico:"
   ]
  },
  {
   "cell_type": "code",
   "execution_count": 8,
   "metadata": {},
   "outputs": [
    {
     "name": "stdout",
     "output_type": "stream",
     "text": [
      "       ┌──────────┐┌───┐┌──────────┐┌─┐   \n",
      "  q_0: ┤0         ├┤ X ├┤0         ├┤M├───\n",
      "       │  unitary │├───┤│  unitary │└╥┘┌─┐\n",
      "  q_1: ┤1         ├┤ S ├┤1         ├─╫─┤M├\n",
      "       └──────────┘└───┘└──────────┘ ║ └╥┘\n",
      "crz: 1/══════════════════════════════╩══╬═\n",
      "                                     0  ║ \n",
      "                                        ║ \n",
      "crx: 1/═════════════════════════════════╩═\n",
      "                                        0  \n",
      "\n"
     ]
    },
    {
     "data": {
      "image/png": "[encoded data removed]",
      "text/plain": [
       "<Figure size 504x360 with 1 Axes>"
      ]
     },
     "execution_count": 8,
     "metadata": {},
     "output_type": "execute_result"
    }
   ],
   "source": [
    "# Recordar correr el código que importa las librerías\n",
    "\n",
    "# Cargamos el simulador Aer\n",
    "simulator = Aer.get_backend(\"qasm_simulator\")\n",
    "\n",
    "# Creamos un QC\n",
    "qr = QuantumRegister(2, 'q')\n",
    "crz, crx = ClassicalRegister(1, name=\"crz\"), ClassicalRegister(1, name=\"crx\")\n",
    "circuit = QuantumCircuit(qr, crz,crx)\n",
    "\n",
    "I_2 = np.identity(4)\n",
    "    \n",
    "X_2 = np.matrix([[0,0,0,1], \n",
    "                   [0,0,1,0],\n",
    "                   [0,1,0,0],\n",
    "                   [1,0,0,0]])\n",
    "J_2 = Operator(1 / np.sqrt(2) * (I_2 + 1j *X_2))  \n",
    "J_2_dg = Operator(1 / np.sqrt(2) * (I_2 - 1j *X_2))\n",
    "\n",
    "\n",
    "circuit.append(J_2, [0,1])\n",
    "circuit.x(0) # asignamos la puerta x al jugador 1\n",
    "circuit.s(1) # asignamos la puerta s al jugador 2\n",
    "circuit.append(J_2_dg, [0,1])\n",
    "\n",
    "\n",
    "circuit.measure(qr[0],crz)\n",
    "circuit.measure(qr[1],crx)\n",
    "\n",
    "\n",
    "# Ejecutamos el circuito en el simulador qasm\n",
    "job = execute(circuit, simulator,shots=1024)\n",
    "# Los resultados de job\n",
    "result = job.result()\n",
    "# Contamos los resultados\n",
    "counts = result.get_counts(circuit)\n",
    "# print(counts,\"\\n\")\n",
    "# Dibujamos el circuito\n",
    "dib = circuit.draw()\n",
    "print(dib,\"\\n\")\n",
    "# Histograma de resultados\n",
    "plot_histogram(counts)"
   ]
  }
 ],
 "metadata": {
  "kernelspec": {
   "display_name": "Python 3",
   "language": "python",
   "name": "python3"
  },
  "language_info": {
   "codemirror_mode": {
    "name": "ipython",
    "version": 3
   },
   "file_extension": ".py",
   "mimetype": "text/x-python",
   "name": "python",
   "nbconvert_exporter": "python",
   "pygments_lexer": "ipython3",
   "version": "3.8.5"
  }
 },
 "nbformat": 4,
 "nbformat_minor": 4
}
